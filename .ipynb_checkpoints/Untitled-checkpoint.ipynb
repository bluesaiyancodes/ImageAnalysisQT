{
 "cells": [
  {
   "cell_type": "code",
   "execution_count": 1,
   "id": "188a8a18",
   "metadata": {},
   "outputs": [],
   "source": [
    "import sys\n",
    "import os\n",
    "from tkinter.tix import Select\n",
    "from PyQt5.QtWidgets import QDialog, QApplication, QLabel, QPushButton, QGridLayout, QGroupBox, QFileDialog\n",
    "from PyQt5.QtCore import Qt\n",
    "from PyQt5.QtGui import QPainter, QImage, QPixmap"
   ]
  },
  {
   "cell_type": "code",
   "execution_count": 2,
   "id": "108a39c6",
   "metadata": {},
   "outputs": [],
   "source": [
    "class Window(QDialog):\n",
    "    def __init__(self):\n",
    "        super().__init__()\n",
    "\n",
    "        #Set Window\n",
    "        self.setGeometry(500,500,900,900)\n",
    "        self.setWindowTitle(\"Image Analysis\")\n",
    "      \n",
    "        # Adding Label and button\n",
    "        self.imgLabel = QLabel(\"Select an Image\", self)\n",
    "        self.btnChoose = QPushButton(\"Choose\", self)\n",
    "        self.btnChoose.clicked.connect(self.btnChooseAction)\n",
    "        self.btnAsses = QPushButton(\"Asses Image\", self)\n",
    "        self.btnAsses.clicked.connect(self.btnAssesAction)\n",
    "        \n",
    "        self.pos1 = [0,0]\n",
    "        self.pos2 = [0,0]\n",
    "        \n",
    "        self.begin = [0, 0]\n",
    "        self.end = [0, 0]\n",
    "\n",
    "\n",
    "        self.layout = QGridLayout(self)\n",
    "        self.groupbox = QGroupBox(\"AR Detection\", checkable=False)\n",
    "        self.layout.addWidget(self.groupbox)\n",
    "\n",
    "        '''  \n",
    "        self.hLayout = QHBoxLayout(self)\n",
    "        self.hLayout.setContentsMargins(0,0,0,0)\n",
    "        self.hLayout.addWidget(self.btnChoose)\n",
    "        self.hLayout.addWidget(self.btnAsses)\n",
    "        '''\n",
    "    \n",
    "        self.layout.addWidget(self.imgLabel, 0,0, Qt.AlignCenter)\n",
    "        self.layout.addWidget(self.btnChoose,1,0, Qt.AlignRight)\n",
    "        self.layout.addWidget(self.btnAsses, 2,0, Qt.AlignRight)\n",
    "\n",
    "\n",
    "        #Setting Layout\n",
    "        self.show()\n",
    "    \n",
    "    def btnChooseAction(self):\n",
    "        print(\"Choose Button clicked\")\n",
    "        self.imgPath = self.open_file()\n",
    "        self.imgLabel.setText(self.imgPath)\n",
    "        #load image\n",
    "        self.load_image(self.imgPath) \n",
    "        \n",
    "\n",
    "\n",
    "    def btnAssesAction(self):\n",
    "        print(\"Asses Button Clicked\")\n",
    "        print(self.imgPath)\n",
    "        \n",
    "\n",
    "\n",
    "    def open_file(self):\n",
    "        #path = QFileDialog.getOpenFileName(self, \"Pick an Image\", os.getenv('HOME'), \"Images (*.png *.jpeg *.jpg *.bmp *.tif)\")\n",
    "        path = QFileDialog.getOpenFileName(self, \"Pick an Image\", os.getcwd(), \"Images (*.png *.jpeg *.jpg *.bmp *.tif)\")\n",
    "        if path != (\"\", \"\"):\n",
    "            print(path[0])\n",
    "        return path[0]\n",
    "    \n",
    "    def load_image(self, imgPath):\n",
    "        image = QImage()\n",
    "        image.load(imgPath)\n",
    "       # self.pixmap = QPixmap('image.jpg')\n",
    "        # Set the pixmap using the QImage instance\n",
    "        self.imgLabel.setPixmap(QPixmap.fromImage(image).scaled(900, 900, Qt.KeepAspectRatioByExpanding))\n",
    "        # self.adjustSize() Auto adjusts the size of window based on the image size\n",
    "        # Window Manipulation call\n",
    "        self.postImgLoadWindow()\n",
    "        \n",
    "        \n",
    "    def paintEvent(self, event):\n",
    "        width = self.end[0] - self.begin[0]\n",
    "        height = self.end[1] -self.begin[1]\n",
    "        qp = QPainter()\n",
    "        qp.begin(self) \n",
    "        qp.drawRect(self.begin[0], self.begin[1], width, height)\n",
    "        qp.end()\n",
    "\n",
    "    def mousePressEvent(self, event):\n",
    "        if event.buttons() & Qt.LeftButton:\n",
    "            self.begin[0], self.begin[1] = event.pos().x(), event.pos().y()\n",
    "    \n",
    "\n",
    "    def mouseReleaseEvent(self, event):\n",
    "        self.end[0], self.end[1] = event.pos().x(), event.pos().y()\n",
    "        self.update()\n",
    "        \n",
    "        \n",
    "        \n",
    "        \n",
    "    def postImgLoadWindow(self):\n",
    "        # Window Manipulation after the image is loaded\n",
    "        # self.imgLabel.hide()\n",
    "        return"
   ]
  },
  {
   "cell_type": "code",
   "execution_count": 3,
   "id": "b9e12d7f",
   "metadata": {},
   "outputs": [
    {
     "name": "stdout",
     "output_type": "stream",
     "text": [
      "Choose Button clicked\n"
     ]
    },
    {
     "name": "stderr",
     "output_type": "stream",
     "text": [
      "QFSFileEngine::open: No file name specified\n",
      "QPixmap::scaled: Pixmap is a null pixmap\n"
     ]
    },
    {
     "ename": "SystemExit",
     "evalue": "0",
     "output_type": "error",
     "traceback": [
      "An exception has occurred, use %tb to see the full traceback.\n",
      "\u001b[0;31mSystemExit\u001b[0m\u001b[0;31m:\u001b[0m 0\n"
     ]
    },
    {
     "name": "stderr",
     "output_type": "stream",
     "text": [
      "/home/bluesaiyancodes/anaconda3/envs/tf-gpu/lib/python3.9/site-packages/IPython/core/interactiveshell.py:3406: UserWarning: To exit: use 'exit', 'quit', or Ctrl-D.\n",
      "  warn(\"To exit: use 'exit', 'quit', or Ctrl-D.\", stacklevel=1)\n"
     ]
    }
   ],
   "source": [
    "\n",
    "if __name__ == '__main__':\n",
    "   app = QApplication(sys.argv)\n",
    "   win = Window()\n",
    "   sys.exit(app.exec_())"
   ]
  },
  {
   "cell_type": "code",
   "execution_count": null,
   "id": "055c0baf",
   "metadata": {},
   "outputs": [],
   "source": []
  },
  {
   "cell_type": "code",
   "execution_count": null,
   "id": "4b1670b7",
   "metadata": {},
   "outputs": [],
   "source": []
  },
  {
   "cell_type": "code",
   "execution_count": null,
   "id": "d3564568",
   "metadata": {},
   "outputs": [],
   "source": []
  },
  {
   "cell_type": "code",
   "execution_count": null,
   "id": "f6610466",
   "metadata": {},
   "outputs": [],
   "source": []
  },
  {
   "cell_type": "code",
   "execution_count": null,
   "id": "8302c558",
   "metadata": {},
   "outputs": [],
   "source": []
  },
  {
   "cell_type": "code",
   "execution_count": null,
   "id": "a56e7d15",
   "metadata": {},
   "outputs": [],
   "source": []
  },
  {
   "cell_type": "code",
   "execution_count": null,
   "id": "838e705f",
   "metadata": {},
   "outputs": [],
   "source": []
  },
  {
   "cell_type": "code",
   "execution_count": null,
   "id": "e2246c7a",
   "metadata": {},
   "outputs": [],
   "source": []
  }
 ],
 "metadata": {
  "kernelspec": {
   "display_name": "Python 3 (ipykernel)",
   "language": "python",
   "name": "python3"
  },
  "language_info": {
   "codemirror_mode": {
    "name": "ipython",
    "version": 3
   },
   "file_extension": ".py",
   "mimetype": "text/x-python",
   "name": "python",
   "nbconvert_exporter": "python",
   "pygments_lexer": "ipython3",
   "version": "3.9.13"
  }
 },
 "nbformat": 4,
 "nbformat_minor": 5
}
